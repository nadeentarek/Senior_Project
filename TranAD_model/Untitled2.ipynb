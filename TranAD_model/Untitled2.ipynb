{
 "cells": [
  {
   "cell_type": "code",
   "execution_count": 1,
   "id": "3331f2c3",
   "metadata": {},
   "outputs": [],
   "source": [
    "import numpy as np\n",
    "import pandas as pd"
   ]
  },
  {
   "cell_type": "code",
   "execution_count": 9,
   "id": "f1d3b765",
   "metadata": {},
   "outputs": [
    {
     "name": "stdout",
     "output_type": "stream",
     "text": [
      "[[1 1]\n",
      " [1 1]\n",
      " [1 1]\n",
      " ...\n",
      " [0 0]\n",
      " [0 0]\n",
      " [0 0]]\n",
      "         0  1\n",
      "0        1  1\n",
      "1        1  1\n",
      "2        1  1\n",
      "3        1  1\n",
      "4        1  1\n",
      "...     .. ..\n",
      "1331985  0  0\n",
      "1331986  0  0\n",
      "1331987  0  0\n",
      "1331988  0  0\n",
      "1331989  0  0\n",
      "\n",
      "[1331990 rows x 2 columns]\n",
      "     0  1\n",
      "0    1  1\n",
      "1    1  1\n",
      "2    1  1\n",
      "3    1  1\n",
      "4    1  1\n",
      "..  .. ..\n",
      "995  1  1\n",
      "996  1  1\n",
      "997  1  1\n",
      "998  1  1\n",
      "999  1  1\n",
      "\n",
      "[1000 rows x 2 columns]\n"
     ]
    }
   ],
   "source": [
    "array = np.load('C:/Users/b00079849/Desktop/TranAD-main/processed/MBA/labels.npy')\n",
    "print(array)\n",
    "\n",
    "df = pd.DataFrame(array)\n",
    "print(df)\n",
    "\n",
    "df = df.head(1000)\n",
    "\n",
    "print(df)\n",
    "\n",
    "np.save(\"labels\",df)"
   ]
  },
  {
   "cell_type": "code",
   "execution_count": 10,
   "id": "c945d65e",
   "metadata": {},
   "outputs": [
    {
     "name": "stdout",
     "output_type": "stream",
     "text": [
      "[[0.36941514 0.30760151 6.        ]\n",
      " [0.36929124 0.30760151 6.        ]\n",
      " [0.36916735 0.30760151 6.        ]\n",
      " ...\n",
      " [0.81678816 0.84699419 2.        ]\n",
      " [0.81678816 0.84694544 2.        ]\n",
      " [0.81678816 0.84689668 2.        ]]\n",
      "                0         1    2\n",
      "0        0.369415  0.307602  6.0\n",
      "1        0.369291  0.307602  6.0\n",
      "2        0.369167  0.307602  6.0\n",
      "3        0.369043  0.307602  6.0\n",
      "4        0.368920  0.307602  6.0\n",
      "...           ...       ...  ...\n",
      "1331985  0.816788  0.847092  2.0\n",
      "1331986  0.816788  0.847043  2.0\n",
      "1331987  0.816788  0.846994  2.0\n",
      "1331988  0.816788  0.846945  2.0\n",
      "1331989  0.816788  0.846897  2.0\n",
      "\n",
      "[1331990 rows x 3 columns]\n",
      "            0         1    2\n",
      "0    0.369415  0.307602  6.0\n",
      "1    0.369291  0.307602  6.0\n",
      "2    0.369167  0.307602  6.0\n",
      "3    0.369043  0.307602  6.0\n",
      "4    0.368920  0.307602  6.0\n",
      "..        ...       ...  ...\n",
      "995  0.356876  0.309751  6.0\n",
      "996  0.356874  0.309751  6.0\n",
      "997  0.356872  0.309758  6.0\n",
      "998  0.356870  0.309764  6.0\n",
      "999  0.356868  0.309771  6.0\n",
      "\n",
      "[1000 rows x 3 columns]\n"
     ]
    }
   ],
   "source": [
    "array = np.load('C:/Users/b00079849/Desktop/TranAD-main/processed/MBA/test.npy')\n",
    "print(array)\n",
    "\n",
    "df = pd.DataFrame(array)\n",
    "print(df)\n",
    "\n",
    "df = df.head(1000)\n",
    "\n",
    "print(df)\n",
    "\n",
    "np.save(\"test\",df)"
   ]
  },
  {
   "cell_type": "code",
   "execution_count": 11,
   "id": "3433377e",
   "metadata": {},
   "outputs": [
    {
     "name": "stdout",
     "output_type": "stream",
     "text": [
      "[[ 0.43838063  0.38578461  3.        ]\n",
      " [ 0.4358567   0.38575542  3.        ]\n",
      " [ 0.43333277  0.38572623  3.        ]\n",
      " ...\n",
      " [ 0.60187911  0.68515479 43.        ]\n",
      " [ 0.60191827  0.68518216 43.        ]\n",
      " [ 0.60195744  0.68520952 43.        ]]\n",
      "                0         1     2\n",
      "0        0.438381  0.385785   3.0\n",
      "1        0.435857  0.385755   3.0\n",
      "2        0.433333  0.385726   3.0\n",
      "3        0.430809  0.385707   3.0\n",
      "4        0.428285  0.385687   3.0\n",
      "...           ...       ...   ...\n",
      "2786219  0.601801  0.685100  43.0\n",
      "2786220  0.601840  0.685127  43.0\n",
      "2786221  0.601879  0.685155  43.0\n",
      "2786222  0.601918  0.685182  43.0\n",
      "2786223  0.601957  0.685210  43.0\n",
      "\n",
      "[2786224 rows x 3 columns]\n",
      "            0         1    2\n",
      "0    0.438381  0.385785  3.0\n",
      "1    0.435857  0.385755  3.0\n",
      "2    0.433333  0.385726  3.0\n",
      "3    0.430809  0.385707  3.0\n",
      "4    0.428285  0.385687  3.0\n",
      "..        ...       ...  ...\n",
      "995  0.403864  0.383848  3.0\n",
      "996  0.403977  0.383868  3.0\n",
      "997  0.404090  0.383887  3.0\n",
      "998  0.404203  0.383907  3.0\n",
      "999  0.404316  0.383926  3.0\n",
      "\n",
      "[1000 rows x 3 columns]\n"
     ]
    }
   ],
   "source": [
    "array = np.load('C:/Users/b00079849/Desktop/TranAD-main/processed/MBA/train.npy')\n",
    "print(array)\n",
    "\n",
    "df = pd.DataFrame(array)\n",
    "print(df)\n",
    "\n",
    "df = df.head(1000)\n",
    "\n",
    "print(df)\n",
    "\n",
    "np.save(\"train\",df)"
   ]
  },
  {
   "cell_type": "code",
   "execution_count": 12,
   "id": "4f6b4a13",
   "metadata": {},
   "outputs": [],
   "source": [
    "import matplotlib.pyplot as plt"
   ]
  },
  {
   "cell_type": "code",
   "execution_count": 16,
   "id": "b475b8b0",
   "metadata": {},
   "outputs": [
    {
     "data": {
      "text/plain": [
       "[<matplotlib.lines.Line2D at 0x21dd11f0d90>]"
      ]
     },
     "execution_count": 16,
     "metadata": {},
     "output_type": "execute_result"
    },
    {
     "data": {
      "image/png": "[encoded data removed]",
      "text/plain": [
       "<Figure size 432x288 with 1 Axes>"
      ]
     },
     "metadata": {
      "needs_background": "light"
     },
     "output_type": "display_data"
    }
   ],
   "source": [
    "recall = [0.9999986334442055,0.9999986334442055,0.9999986334442055,0.9999986334442055,0.9999986334442055]\n",
    "precision = [0.9625425846634326,0.9467666686382415,0.9466666686382415,0.94655786666827,0.94554210452327]\n",
    "#plt.axis([9999986334442055, 1, 0.9, 1])\n",
    "plt.plot(recall,precision)\n"
   ]
  },
  {
   "cell_type": "code",
   "execution_count": null,
   "id": "8184b97d",
   "metadata": {},
   "outputs": [],
   "source": [
    "#Fp/fp+tn FPR\n",
    "#tp/tp+fn tpr\n",
    "\n",
    "def fpr(fp,tn):\n",
    "    return fp/(fp+tn)\n",
    "\n",
    "def tpr(tp,fn):\n",
    "    return tp/(tp+fn)"
   ]
  },
  {
   "cell_type": "code",
   "execution_count": 19,
   "id": "3b2a281f",
   "metadata": {},
   "outputs": [
    {
     "data": {
      "text/plain": [
       "array([0.35, 0.4 , 0.8 ])"
      ]
     },
     "execution_count": 19,
     "metadata": {},
     "output_type": "execute_result"
    }
   ],
   "source": [
    "import numpy as np\n",
    "from sklearn.metrics import precision_recall_curve\n",
    "y_true = np.array([0, 0, 1, 1])\n",
    "y_scores = np.array([0.1, 0.4, 0.35, 0.8])\n",
    "precision, recall, thresholds = precision_recall_curve(\n",
    "    y_true, y_scores)\n",
    "precision\n",
    "\n",
    "recall\n",
    "\n",
    "thresholds"
   ]
  },
  {
   "cell_type": "code",
   "execution_count": null,
   "id": "eca0354f",
   "metadata": {},
   "outputs": [],
   "source": [
    "y_score = classifier.decision_function(X_test)\n",
    "\n",
    "display = PrecisionRecallDisplay.from_predictions(y_test, y_score, name=\"LinearSVC\")\n",
    "_ = display.ax_.set_title(\"2-class Precision-Recall curve\")"
   ]
  }
 ],
 "metadata": {
  "kernelspec": {
   "display_name": "Python 3 (ipykernel)",
   "language": "python",
   "name": "python3"
  },
  "language_info": {
   "codemirror_mode": {
    "name": "ipython",
    "version": 3
   },
   "file_extension": ".py",
   "mimetype": "text/x-python",
   "name": "python",
   "nbconvert_exporter": "python",
   "pygments_lexer": "ipython3",
   "version": "3.9.7"
  }
 },
 "nbformat": 4,
 "nbformat_minor": 5
}
