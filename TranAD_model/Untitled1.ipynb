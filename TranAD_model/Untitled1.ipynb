{
 "cells": [
  {
   "cell_type": "code",
   "execution_count": 1,
   "id": "29986e7b",
   "metadata": {},
   "outputs": [
    {
     "name": "stdout",
     "output_type": "stream",
     "text": [
      "        0  1\n",
      "0       1  1\n",
      "1       1  1\n",
      "2       1  1\n",
      "3       1  1\n",
      "4       1  1\n",
      "...    .. ..\n",
      "105420  1  1\n",
      "105421  1  1\n",
      "105422  1  1\n",
      "105423  1  1\n",
      "105424  1  1\n",
      "\n",
      "[105425 rows x 2 columns]\n"
     ]
    }
   ],
   "source": [
    "import numpy as np\n",
    "import pandas as pd\n",
    "def make1():\n",
    "    return 1\n",
    "# array = np.load('C:/Users/Ahmed Elmeligy/TranAD-main/processed/MBA/labels.npy')\n",
    "# print(array)\n",
    "# array = np.full(1)\n",
    "# df = pd.DataFrame(array)\n",
    "\n",
    "# print(df)\n",
    "# dfn = [[0,0]for x in range(226457)]\n",
    "# dfn = pd.DataFrame(dfn)\n",
    "dfnn = [[1,1]for x in range(105425)]\n",
    "# dfnn = pd.DataFrame(dfnn)\n",
    "# dfn.extend(dfnn)\n",
    "final = pd.DataFrame(dfnn)\n",
    "print(final)\n",
    "\n",
    "# df1 = df.iloc[0:226456]\n",
    "# print(df)\n",
    "# ad = df.to_numpy()\n",
    "np.save(\"labels\",final)\n",
    "# print(ad)"
   ]
  },
  {
   "cell_type": "code",
   "execution_count": 11,
   "id": "12a032aa",
   "metadata": {},
   "outputs": [
    {
     "name": "stdout",
     "output_type": "stream",
     "text": [
      "        0  1\n",
      "0       1  1\n",
      "1       1  1\n",
      "2       1  1\n",
      "3       1  1\n",
      "4       1  1\n",
      "...    .. ..\n",
      "244045  0  0\n",
      "244046  0  0\n",
      "244047  0  0\n",
      "244048  0  0\n",
      "244049  0  0\n",
      "\n",
      "[244050 rows x 2 columns]\n"
     ]
    }
   ],
   "source": [
    "array = np.load('C:/Users/Ahmed Elmeligy/TranAD-main/processed/US/labels.npy')\n",
    "df = pd.DataFrame(array)\n",
    "print(df)"
   ]
  },
  {
   "cell_type": "code",
   "execution_count": 12,
   "id": "69c95ccc",
   "metadata": {},
   "outputs": [
    {
     "name": "stdout",
     "output_type": "stream",
     "text": [
      "                0          1\n",
      "0       32.050000  20.846667\n",
      "1       32.133000  20.847333\n",
      "2       32.216000  20.848000\n",
      "3       32.299000  20.848667\n",
      "4       32.382000  20.849333\n",
      "...           ...        ...\n",
      "244045  21.538667  22.031250\n",
      "244046  21.539000  22.030000\n",
      "244047  21.539333  22.028750\n",
      "244048  21.539667  22.027500\n",
      "244049  21.540000  22.026250\n",
      "\n",
      "[244050 rows x 2 columns]\n"
     ]
    }
   ],
   "source": [
    "array = np.load('C:/Users/Ahmed Elmeligy/TranAD-main/processed/US/test.npy')\n",
    "df = pd.DataFrame(array)\n",
    "print(df)"
   ]
  },
  {
   "cell_type": "code",
   "execution_count": 13,
   "id": "518b961b",
   "metadata": {},
   "outputs": [
    {
     "name": "stdout",
     "output_type": "stream",
     "text": [
      "        Unnamed: 0             timezone  sensor_reading_x  sensor_reading_y  \\\n",
      "0                0  2021-01-08 11:33:00             2.010          2.596667   \n",
      "1                0  2021-01-08 11:34:00             2.052          2.643333   \n",
      "2                0  2021-01-08 11:35:00             2.094          2.690000   \n",
      "3                0  2021-01-08 11:36:00             2.136          2.736667   \n",
      "4                0  2021-01-08 11:37:00             2.178          2.783333   \n",
      "...            ...                  ...               ...               ...   \n",
      "226398           0  2021-06-14 16:51:00            21.108         21.943125   \n",
      "226399           0  2021-06-14 16:52:00            21.111         21.945000   \n",
      "226400           0  2021-06-14 16:53:00            21.114         21.946875   \n",
      "226401           0  2021-06-14 16:54:00            21.117         21.948750   \n",
      "226402           0  2021-06-14 16:55:00            21.120         21.950625   \n",
      "\n",
      "        label  \n",
      "0           0  \n",
      "1           0  \n",
      "2           0  \n",
      "3           0  \n",
      "4           0  \n",
      "...       ...  \n",
      "226398      0  \n",
      "226399      0  \n",
      "226400      0  \n",
      "226401      0  \n",
      "226402      0  \n",
      "\n",
      "[226403 rows x 5 columns]\n"
     ]
    }
   ],
   "source": [
    "df = pd.read_csv('bunker1_labeled_1_reading.csv')\n",
    "print(df)"
   ]
  },
  {
   "cell_type": "code",
   "execution_count": 14,
   "id": "0de97d8d",
   "metadata": {},
   "outputs": [
    {
     "name": "stdout",
     "output_type": "stream",
     "text": [
      "        sensor_reading_x  sensor_reading_y\n",
      "0                  2.010          2.596667\n",
      "1                  2.052          2.643333\n",
      "2                  2.094          2.690000\n",
      "3                  2.136          2.736667\n",
      "4                  2.178          2.783333\n",
      "...                  ...               ...\n",
      "226398            21.108         21.943125\n",
      "226399            21.111         21.945000\n",
      "226400            21.114         21.946875\n",
      "226401            21.117         21.948750\n",
      "226402            21.120         21.950625\n",
      "\n",
      "[226403 rows x 2 columns]\n"
     ]
    }
   ],
   "source": [
    "Filtered_new = df[[\"sensor_reading_x\",\"sensor_reading_y\"]]\n",
    "print(Filtered_new)"
   ]
  },
  {
   "cell_type": "code",
   "execution_count": 15,
   "id": "fd1f3968",
   "metadata": {},
   "outputs": [],
   "source": [
    "Filtered_new.to_csv('bunker1_labeled_1_reading.csv')"
   ]
  },
  {
   "cell_type": "code",
   "execution_count": 16,
   "id": "1c17a51f",
   "metadata": {},
   "outputs": [
    {
     "name": "stdout",
     "output_type": "stream",
     "text": [
      "No. of training examples: 181122\n",
      "No. of testing examples: 45281\n"
     ]
    }
   ],
   "source": [
    "train = Filtered_new.sample(frac=0.8, random_state=25)\n",
    "test = Filtered_new.drop(train.index)\n",
    "\n",
    "print(f\"No. of training examples: {train.shape[0]}\")\n",
    "print(f\"No. of testing examples: {test.shape[0]}\")"
   ]
  },
  {
   "cell_type": "code",
   "execution_count": 17,
   "id": "fbd1d4ee",
   "metadata": {},
   "outputs": [],
   "source": [
    "train.to_csv('train.csv')\n",
    "test.to_csv('test.csv')"
   ]
  },
  {
   "cell_type": "code",
   "execution_count": 27,
   "id": "bf8a85f1",
   "metadata": {},
   "outputs": [
    {
     "name": "stdout",
     "output_type": "stream",
     "text": [
      "           0    1\n",
      "0        0.0  0.0\n",
      "1        0.0  0.0\n",
      "2        0.0  0.0\n",
      "3        0.0  0.0\n",
      "4        0.0  0.0\n",
      "...      ...  ...\n",
      "1048569  0.0  0.0\n",
      "1048570  0.0  0.0\n",
      "1048571  0.0  0.0\n",
      "1048572  0.0  0.0\n",
      "1048573  0.0  0.0\n",
      "\n",
      "[1048574 rows x 2 columns]\n"
     ]
    }
   ],
   "source": [
    "array = np.load('C:/Users/Ahmed Elmeligy/TranAD-main/processed/US/labels.npy')\n",
    "df = pd.DataFrame(array)\n",
    "print(df)"
   ]
  },
  {
   "cell_type": "code",
   "execution_count": 23,
   "id": "db58fe36",
   "metadata": {},
   "outputs": [
    {
     "name": "stdout",
     "output_type": "stream",
     "text": [
      "[[0.18252855 0.22635354]\n",
      " [0.18311538 0.2097758 ]\n",
      " [0.18725425 0.20367195]\n",
      " ...\n",
      " [0.23693414 0.2248687 ]\n",
      " [0.23696081 0.22476201]\n",
      " [0.23696525 0.22463753]]\n"
     ]
    }
   ],
   "source": [
    "array = np.load('C:/Users/Ahmed Elmeligy/TranAD-main/processed/US/test.npy')\n",
    "print(array)\n"
   ]
  },
  {
   "cell_type": "code",
   "execution_count": 24,
   "id": "078cf2af",
   "metadata": {},
   "outputs": [
    {
     "name": "stdout",
     "output_type": "stream",
     "text": [
      "[[0.28223952 0.32674914]\n",
      " [0.19589655 0.25916227]\n",
      " [0.32575332 0.30510783]\n",
      " ...\n",
      " [0.29646108 0.33684516]\n",
      " [0.25759296 0.37363717]\n",
      " [0.29115745 0.29139751]]\n"
     ]
    }
   ],
   "source": [
    "array = np.load('C:/Users/Ahmed Elmeligy/TranAD-main/processed/US/train.npy')\n",
    "print(array)"
   ]
  },
  {
   "cell_type": "code",
   "execution_count": null,
   "id": "13928730",
   "metadata": {},
   "outputs": [],
   "source": []
  }
 ],
 "metadata": {
  "kernelspec": {
   "display_name": "Python 3 (ipykernel)",
   "language": "python",
   "name": "python3"
  },
  "language_info": {
   "codemirror_mode": {
    "name": "ipython",
    "version": 3
   },
   "file_extension": ".py",
   "mimetype": "text/x-python",
   "name": "python",
   "nbconvert_exporter": "python",
   "pygments_lexer": "ipython3",
   "version": "3.9.7"
  }
 },
 "nbformat": 4,
 "nbformat_minor": 5
}
