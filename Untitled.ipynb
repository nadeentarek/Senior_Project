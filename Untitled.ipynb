{
 "cells": [
  {
   "cell_type": "code",
   "execution_count": 66,
   "id": "f055e980",
   "metadata": {},
   "outputs": [
    {
     "name": "stdout",
     "output_type": "stream",
     "text": [
      "         Unnamed: 0             timezone  sensor_reading_x  sensor_reading_y  \\\n",
      "0                 0  2021-01-08 10:47:00          0.512176          0.480255   \n",
      "1                 0  2021-01-08 10:48:00          0.512459          0.480121   \n",
      "2                 0  2021-01-08 10:49:00          0.512742          0.479987   \n",
      "3                 0  2021-01-08 10:50:00          0.513025          0.479853   \n",
      "4                 0  2021-01-08 10:51:00          0.513308          0.479719   \n",
      "...             ...                  ...               ...               ...   \n",
      "2654661          43  2021-06-14 16:51:00          0.850515          0.858191   \n",
      "2654662          43  2021-06-14 16:52:00          0.850570          0.858225   \n",
      "2654663          43  2021-06-14 16:53:00          0.850626          0.858259   \n",
      "2654664          43  2021-06-14 16:54:00          0.850681          0.858294   \n",
      "2654665          43  2021-06-14 16:55:00          0.850736          0.858328   \n",
      "\n",
      "         pair_id  \n",
      "0              0  \n",
      "1              0  \n",
      "2              0  \n",
      "3              0  \n",
      "4              0  \n",
      "...          ...  \n",
      "2654661       43  \n",
      "2654662       43  \n",
      "2654663       43  \n",
      "2654664       43  \n",
      "2654665       43  \n",
      "\n",
      "[2654666 rows x 5 columns]\n",
      "        Unnamed: 0             timezone  sensor_reading_x  sensor_reading_y  \\\n",
      "0                6  2021-04-07 11:16:00          0.369415          0.307602   \n",
      "1                6  2021-04-07 11:17:00          0.369291          0.307602   \n",
      "2                6  2021-04-07 11:18:00          0.369167          0.307602   \n",
      "3                6  2021-04-07 11:19:00          0.369043          0.307602   \n",
      "4                6  2021-04-07 11:20:00          0.368920          0.307602   \n",
      "...            ...                  ...               ...               ...   \n",
      "731769          29  2021-06-14 16:11:00          0.837703          0.539169   \n",
      "731770          29  2021-06-14 16:12:00          0.837717          0.539143   \n",
      "731771          29  2021-06-14 16:13:00          0.837731          0.539117   \n",
      "731772          29  2021-06-14 16:14:00          0.837745          0.539091   \n",
      "731773          29  2021-06-14 16:15:00          0.837760          0.539065   \n",
      "\n",
      "        label  pair_id  \n",
      "0           1        6  \n",
      "1           1        6  \n",
      "2           1        6  \n",
      "3           1        6  \n",
      "4           1        6  \n",
      "...       ...      ...  \n",
      "731769      1       29  \n",
      "731770      1       29  \n",
      "731771      1       29  \n",
      "731772      1       29  \n",
      "731773      1       29  \n",
      "\n",
      "[731774 rows x 6 columns]\n"
     ]
    }
   ],
   "source": [
    "import numpy as np\n",
    "import pandas as pd\n",
    "df = pd.read_csv('Adham_Ahmed_Transformer_Normal_Records_Training.csv')\n",
    "testing = pd.read_csv('Adham_Ahmed_Transformer_Anomaly_Records_Testing.csv')\n",
    "\n",
    "print(df)\n",
    "print(testing)\n"
   ]
  },
  {
   "cell_type": "code",
   "execution_count": 68,
   "id": "3c4aeaba",
   "metadata": {},
   "outputs": [
    {
     "name": "stdout",
     "output_type": "stream",
     "text": [
      "         sensor_reading_x  sensor_reading_y  pair_id\n",
      "0                0.512176          0.480255        0\n",
      "1                0.512459          0.480121        0\n",
      "2                0.512742          0.479987        0\n",
      "3                0.513025          0.479853        0\n",
      "4                0.513308          0.479719        0\n",
      "...                   ...               ...      ...\n",
      "2654661          0.850515          0.858191       43\n",
      "2654662          0.850570          0.858225       43\n",
      "2654663          0.850626          0.858259       43\n",
      "2654664          0.850681          0.858294       43\n",
      "2654665          0.850736          0.858328       43\n",
      "\n",
      "[2654666 rows x 3 columns]\n",
      "        sensor_reading_x  sensor_reading_y  pair_id\n",
      "0               0.369415          0.307602        6\n",
      "1               0.369291          0.307602        6\n",
      "2               0.369167          0.307602        6\n",
      "3               0.369043          0.307602        6\n",
      "4               0.368920          0.307602        6\n",
      "...                  ...               ...      ...\n",
      "731769          0.837703          0.539169       29\n",
      "731770          0.837717          0.539143       29\n",
      "731771          0.837731          0.539117       29\n",
      "731772          0.837745          0.539091       29\n",
      "731773          0.837760          0.539065       29\n",
      "\n",
      "[731774 rows x 3 columns]\n",
      "        sensor_reading_x  sensor_reading_y  pair_id\n",
      "0               0.512176          0.480255        0\n",
      "1               0.512459          0.480121        0\n",
      "2               0.512742          0.479987        0\n",
      "3               0.513025          0.479853        0\n",
      "4               0.513308          0.479719        0\n",
      "...                  ...               ...      ...\n",
      "600211          0.816788          0.847092        2\n",
      "600212          0.816788          0.847043        2\n",
      "600213          0.816788          0.846994        2\n",
      "600214          0.816788          0.846945        2\n",
      "600215          0.816788          0.846897        2\n",
      "\n",
      "[600216 rows x 3 columns]\n",
      "         sensor_reading_x  sensor_reading_y  pair_id\n",
      "0                0.369415          0.307602        6\n",
      "1                0.369291          0.307602        6\n",
      "2                0.369167          0.307602        6\n",
      "3                0.369043          0.307602        6\n",
      "4                0.368920          0.307602        6\n",
      "...                   ...               ...      ...\n",
      "1331985          0.816788          0.847092        2\n",
      "1331986          0.816788          0.847043        2\n",
      "1331987          0.816788          0.846994        2\n",
      "1331988          0.816788          0.846945        2\n",
      "1331989          0.816788          0.846897        2\n",
      "\n",
      "[1331990 rows x 3 columns]\n"
     ]
    }
   ],
   "source": [
    "Filtered_new = df[[\"sensor_reading_x\",\"sensor_reading_y\",\"pair_id\"]]\n",
    "Filtered_new2 = testing[[\"sensor_reading_x\",\"sensor_reading_y\",\"pair_id\"]]\n",
    "\n",
    "print(Filtered_new)\n",
    "print(Filtered_new2)\n",
    "\n",
    "testing_add = Filtered_new[Filtered_new['pair_id'] <=2]\n",
    "print(testing_add)\n",
    "\n",
    "\n",
    "# testing=testing.reset_index(drop=True)\n",
    "training = Filtered_new[Filtered_new['pair_id'] >2]\n",
    "\n",
    "new_test = pd.concat([Filtered_new2, testing_add], axis=0)\n",
    "new_test = new_test.reset_index(drop=True)\n",
    "# Filtered_new2 = testing_add.append(Filtered_new2, ignore_index=True)\n",
    "\n",
    "# print(training)\n",
    "print(new_test)\n"
   ]
  },
  {
   "cell_type": "code",
   "execution_count": 69,
   "id": "a8df4c32",
   "metadata": {},
   "outputs": [],
   "source": [
    "ad = new_test.to_numpy()\n",
    "np.save(\"test\",ad)\n"
   ]
  },
  {
   "cell_type": "code",
   "execution_count": 13,
   "id": "23d6ff53",
   "metadata": {},
   "outputs": [
    {
     "name": "stdout",
     "output_type": "stream",
     "text": [
      "        0  1\n",
      "0       1  1\n",
      "1       1  1\n",
      "2       1  1\n",
      "3       1  1\n",
      "4       1  1\n",
      "...    .. ..\n",
      "105420  1  1\n",
      "105421  1  1\n",
      "105422  1  1\n",
      "105423  1  1\n",
      "105424  1  1\n",
      "\n",
      "[105425 rows x 2 columns]\n"
     ]
    }
   ],
   "source": [
    "array = np.load('C:/Users/b00079849/Desktop/TranAD-main/processed/MBA/labels.npy')\n",
    "array = pd.DataFrame(array)\n",
    "print (array)"
   ]
  },
  {
   "cell_type": "code",
   "execution_count": 14,
   "id": "d9c5cd9f",
   "metadata": {},
   "outputs": [
    {
     "name": "stdout",
     "output_type": "stream",
     "text": [
      "               0         1    2\n",
      "0       0.222944  0.870690  0.0\n",
      "1       0.222639  0.870690  0.0\n",
      "2       0.222334  0.870690  0.0\n",
      "3       0.222029  0.870690  0.0\n",
      "4       0.221724  0.870690  0.0\n",
      "...          ...       ...  ...\n",
      "105420  0.688494  0.195473  4.0\n",
      "105421  0.688521  0.195428  4.0\n",
      "105422  0.688549  0.195382  4.0\n",
      "105423  0.688576  0.195337  4.0\n",
      "105424  0.688604  0.195291  4.0\n",
      "\n",
      "[105425 rows x 3 columns]\n"
     ]
    }
   ],
   "source": [
    "array = np.load('C:/Users/b00079849/Desktop/TranAD-main/processed/MBA/test.npy')\n",
    "array = pd.DataFrame(array)\n",
    "print (array)"
   ]
  },
  {
   "cell_type": "code",
   "execution_count": 15,
   "id": "3d3aaba2",
   "metadata": {},
   "outputs": [
    {
     "name": "stdout",
     "output_type": "stream",
     "text": [
      "                0         1     2\n",
      "0        0.512176  0.480255   0.0\n",
      "1        0.512459  0.480121   0.0\n",
      "2        0.512742  0.479987   0.0\n",
      "3        0.513025  0.479853   0.0\n",
      "4        0.513308  0.479719   0.0\n",
      "...           ...       ...   ...\n",
      "2755639  0.850515  0.858191  13.0\n",
      "2755640  0.850570  0.858225  13.0\n",
      "2755641  0.850626  0.858259  13.0\n",
      "2755642  0.850681  0.858294  13.0\n",
      "2755643  0.850736  0.858328  13.0\n",
      "\n",
      "[2755644 rows x 3 columns]\n"
     ]
    }
   ],
   "source": [
    "array = np.load('C:/Users/b00079849/Desktop/TranAD-main/processed/MBA/train.npy')\n",
    "array = pd.DataFrame(array)\n",
    "print (array)"
   ]
  },
  {
   "cell_type": "code",
   "execution_count": 20,
   "id": "5b7ca01c",
   "metadata": {},
   "outputs": [
    {
     "name": "stdout",
     "output_type": "stream",
     "text": [
      "        0  1\n",
      "0       1  1\n",
      "1       1  1\n",
      "2       1  1\n",
      "3       1  1\n",
      "4       1  1\n",
      "...    .. ..\n",
      "105420  1  1\n",
      "105421  1  1\n",
      "105422  1  1\n",
      "105423  1  1\n",
      "105424  1  1\n",
      "\n",
      "[105425 rows x 2 columns]\n"
     ]
    }
   ],
   "source": [
    "array = np.load('C:/Users/b00079849/Desktop/TranAD-main/processed/MBA/labels.npy')\n",
    "\n",
    "df = pd.DataFrame(array)\n",
    "ar = df.to_numpy()\n",
    "print(df)"
   ]
  },
  {
   "cell_type": "code",
   "execution_count": 71,
   "id": "d7a13591",
   "metadata": {},
   "outputs": [
    {
     "name": "stdout",
     "output_type": "stream",
     "text": [
      "         0  1\n",
      "0        1  1\n",
      "1        1  1\n",
      "2        1  1\n",
      "3        1  1\n",
      "4        1  1\n",
      "...     .. ..\n",
      "1331985  0  0\n",
      "1331986  0  0\n",
      "1331987  0  0\n",
      "1331988  0  0\n",
      "1331989  0  0\n",
      "\n",
      "[1331990 rows x 2 columns]\n"
     ]
    }
   ],
   "source": [
    "df1 = pd.DataFrame(index=range(731774),columns=range(2))\n",
    "df2 = pd.DataFrame(index=range(600216),columns=range(2))\n",
    "df1 = df1.fillna(1)\n",
    "df2 = df2.fillna(0)\n",
    "df = pd.concat([df1,df2],axis=0)\n",
    "df = df.reset_index(drop=True)\n",
    "ad = df.to_numpy()\n",
    "np.save(\"labels\",ad)\n",
    "print(df)"
   ]
  },
  {
   "cell_type": "code",
   "execution_count": 34,
   "id": "976922d2",
   "metadata": {},
   "outputs": [
    {
     "name": "stdout",
     "output_type": "stream",
     "text": [
      "         0    1\n",
      "count  0.0  0.0\n",
      "mean   NaN  NaN\n",
      "std    NaN  NaN\n",
      "min    NaN  NaN\n",
      "25%    NaN  NaN\n",
      "50%    NaN  NaN\n",
      "75%    NaN  NaN\n",
      "max    NaN  NaN\n",
      "[[nan nan]\n",
      " [nan nan]\n",
      " [nan nan]\n",
      " ...\n",
      " [nan nan]\n",
      " [nan nan]\n",
      " [nan nan]]\n"
     ]
    }
   ],
   "source": [
    "df[0] = df[0].apply(lambda x: x + 1)\n",
    "df[1] = df[1].apply(lambda x: x + 1)\n",
    "ad = df.to_numpy()\n",
    "print(df.describe())\n",
    "np.save(\"labels\",ad)\n",
    "print(ad)"
   ]
  },
  {
   "cell_type": "code",
   "execution_count": 28,
   "id": "4e954331",
   "metadata": {},
   "outputs": [
    {
     "ename": "FileNotFoundError",
     "evalue": "[Errno 2] No such file or directory: 'C:/Users/Ahmed Elmeligy/TranAD-main/test.npy'",
     "output_type": "error",
     "traceback": [
      "\u001b[1;31m---------------------------------------------------------------------------\u001b[0m",
      "\u001b[1;31mFileNotFoundError\u001b[0m                         Traceback (most recent call last)",
      "\u001b[1;32mC:\\Users\\B00079~1\\AppData\\Local\\Temp/ipykernel_14504/3634435886.py\u001b[0m in \u001b[0;36m<module>\u001b[1;34m\u001b[0m\n\u001b[1;32m----> 1\u001b[1;33m \u001b[0marray1\u001b[0m \u001b[1;33m=\u001b[0m \u001b[0mnp\u001b[0m\u001b[1;33m.\u001b[0m\u001b[0mload\u001b[0m\u001b[1;33m(\u001b[0m\u001b[1;34m'C:/Users/Ahmed Elmeligy/TranAD-main/test.npy'\u001b[0m\u001b[1;33m)\u001b[0m\u001b[1;33m\u001b[0m\u001b[1;33m\u001b[0m\u001b[0m\n\u001b[0m\u001b[0;32m      2\u001b[0m \u001b[0marray2\u001b[0m \u001b[1;33m=\u001b[0m \u001b[0mnp\u001b[0m\u001b[1;33m.\u001b[0m\u001b[0mload\u001b[0m\u001b[1;33m(\u001b[0m\u001b[1;34m'C:/Users/Ahmed Elmeligy/TranAD-main/newtest.npy'\u001b[0m\u001b[1;33m)\u001b[0m\u001b[1;33m\u001b[0m\u001b[1;33m\u001b[0m\u001b[0m\n\u001b[0;32m      3\u001b[0m \u001b[1;33m\u001b[0m\u001b[0m\n\u001b[0;32m      4\u001b[0m \u001b[1;33m\u001b[0m\u001b[0m\n\u001b[0;32m      5\u001b[0m \u001b[0mfinal\u001b[0m \u001b[1;33m=\u001b[0m \u001b[0mnp\u001b[0m\u001b[1;33m.\u001b[0m\u001b[0mconcatenate\u001b[0m\u001b[1;33m(\u001b[0m\u001b[1;33m(\u001b[0m\u001b[0marray1\u001b[0m\u001b[1;33m,\u001b[0m\u001b[0marray2\u001b[0m\u001b[1;33m)\u001b[0m\u001b[1;33m)\u001b[0m\u001b[1;33m\u001b[0m\u001b[1;33m\u001b[0m\u001b[0m\n",
      "\u001b[1;32m~\\Anaconda3\\lib\\site-packages\\numpy\\lib\\npyio.py\u001b[0m in \u001b[0;36mload\u001b[1;34m(file, mmap_mode, allow_pickle, fix_imports, encoding)\u001b[0m\n\u001b[0;32m    415\u001b[0m             \u001b[0mown_fid\u001b[0m \u001b[1;33m=\u001b[0m \u001b[1;32mFalse\u001b[0m\u001b[1;33m\u001b[0m\u001b[1;33m\u001b[0m\u001b[0m\n\u001b[0;32m    416\u001b[0m         \u001b[1;32melse\u001b[0m\u001b[1;33m:\u001b[0m\u001b[1;33m\u001b[0m\u001b[1;33m\u001b[0m\u001b[0m\n\u001b[1;32m--> 417\u001b[1;33m             \u001b[0mfid\u001b[0m \u001b[1;33m=\u001b[0m \u001b[0mstack\u001b[0m\u001b[1;33m.\u001b[0m\u001b[0menter_context\u001b[0m\u001b[1;33m(\u001b[0m\u001b[0mopen\u001b[0m\u001b[1;33m(\u001b[0m\u001b[0mos_fspath\u001b[0m\u001b[1;33m(\u001b[0m\u001b[0mfile\u001b[0m\u001b[1;33m)\u001b[0m\u001b[1;33m,\u001b[0m \u001b[1;34m\"rb\"\u001b[0m\u001b[1;33m)\u001b[0m\u001b[1;33m)\u001b[0m\u001b[1;33m\u001b[0m\u001b[1;33m\u001b[0m\u001b[0m\n\u001b[0m\u001b[0;32m    418\u001b[0m             \u001b[0mown_fid\u001b[0m \u001b[1;33m=\u001b[0m \u001b[1;32mTrue\u001b[0m\u001b[1;33m\u001b[0m\u001b[1;33m\u001b[0m\u001b[0m\n\u001b[0;32m    419\u001b[0m \u001b[1;33m\u001b[0m\u001b[0m\n",
      "\u001b[1;31mFileNotFoundError\u001b[0m: [Errno 2] No such file or directory: 'C:/Users/Ahmed Elmeligy/TranAD-main/test.npy'"
     ]
    }
   ],
   "source": [
    "array1 = np.load('C:/Users/Ahmed Elmeligy/TranAD-main/test.npy')\n",
    "array2 = np.load('C:/Users/Ahmed Elmeligy/TranAD-main/newtest.npy')\n",
    "\n",
    "\n",
    "final = np.concatenate((array1,array2))\n",
    "final = pd.DataFrame(final)\n",
    "np.save(\"test\",final)\n",
    "print(final)"
   ]
  },
  {
   "cell_type": "code",
   "execution_count": 46,
   "id": "16326967",
   "metadata": {},
   "outputs": [
    {
     "name": "stdout",
     "output_type": "stream",
     "text": [
      "        0  1\n",
      "0       1  1\n",
      "1       1  1\n",
      "2       1  1\n",
      "3       1  1\n",
      "4       1  1\n",
      "...    .. ..\n",
      "244045  0  0\n",
      "244046  0  0\n",
      "244047  0  0\n",
      "244048  0  0\n",
      "244049  0  0\n",
      "\n",
      "[244050 rows x 2 columns]\n"
     ]
    }
   ],
   "source": [
    "label1 = np.full((17647,2),1)\n",
    "label2 = np.full((226403,2),0)\n",
    "label1 = pd.DataFrame(label1)\n",
    "label2 = pd.DataFrame(label2)\n",
    "\n",
    "final = np.concatenate((label1,label2))\n",
    "\n",
    "np.save(\"labels\",final)\n",
    "final = pd.DataFrame(final)\n",
    "print(final)\n"
   ]
  },
  {
   "cell_type": "code",
   "execution_count": 5,
   "id": "83e9eebe",
   "metadata": {},
   "outputs": [
    {
     "name": "stderr",
     "output_type": "stream",
     "text": [
      "usage: ipykernel_launcher.py [-h] [--dataset -d] [--model -m] [--test]\n",
      "                             [--retrain] [--less]\n",
      "ipykernel_launcher.py: error: unrecognized arguments: -f C:\\Users\\b00079849\\AppData\\Roaming\\jupyter\\runtime\\kernel-59e44422-ff86-4bf2-a582-c876ea39b740.json\n"
     ]
    },
    {
     "ename": "SystemExit",
     "evalue": "2",
     "output_type": "error",
     "traceback": [
      "An exception has occurred, use %tb to see the full traceback.\n",
      "\u001b[1;31mSystemExit\u001b[0m\u001b[1;31m:\u001b[0m 2\n"
     ]
    }
   ],
   "source": [
    "import torch\n",
    "model = torch.load('entire_model')\n",
    "model.eval()\n",
    "\n",
    "# print(model)"
   ]
  },
  {
   "cell_type": "code",
   "execution_count": null,
   "id": "eefe107a",
   "metadata": {},
   "outputs": [],
   "source": []
  }
 ],
 "metadata": {
  "kernelspec": {
   "display_name": "Python 3 (ipykernel)",
   "language": "python",
   "name": "python3"
  },
  "language_info": {
   "codemirror_mode": {
    "name": "ipython",
    "version": 3
   },
   "file_extension": ".py",
   "mimetype": "text/x-python",
   "name": "python",
   "nbconvert_exporter": "python",
   "pygments_lexer": "ipython3",
   "version": "3.9.7"
  }
 },
 "nbformat": 4,
 "nbformat_minor": 5
}
